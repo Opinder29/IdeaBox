{
 "cells": [
  {
   "cell_type": "code",
   "execution_count": 1,
   "id": "3687bb52-f1fa-43b4-a78e-5927056191d5",
   "metadata": {},
   "outputs": [],
   "source": [
    "import pandas as pd"
   ]
  },
  {
   "cell_type": "code",
   "execution_count": 3,
   "id": "35ba1cae-049e-4dcb-aa6e-1c90a6ebe4a3",
   "metadata": {},
   "outputs": [],
   "source": [
    "import numpy as np"
   ]
  },
  {
   "cell_type": "code",
   "execution_count": 33,
   "id": "0ab792fb-ebea-4c9f-834c-42c370be9d5d",
   "metadata": {},
   "outputs": [],
   "source": [
    "import matplotlib.pyplot as plt"
   ]
  },
  {
   "cell_type": "code",
   "execution_count": 43,
   "id": "175c7e0f-53eb-48e8-be45-841eabca49c7",
   "metadata": {},
   "outputs": [],
   "source": [
    "import seaborn as sns"
   ]
  },
  {
   "cell_type": "code",
   "execution_count": 5,
   "id": "2589d8df-3cfe-44d3-ac80-6f57780d7cba",
   "metadata": {},
   "outputs": [],
   "source": [
    "df=pd.read_csv('./Downloads/titanic.csv')"
   ]
  },
  {
   "cell_type": "code",
   "execution_count": 7,
   "id": "83ea2b78-8ff0-4395-8de3-531821fe5fb8",
   "metadata": {},
   "outputs": [
    {
     "data": {
      "text/html": [
       "<div>\n",
       "<style scoped>\n",
       "    .dataframe tbody tr th:only-of-type {\n",
       "        vertical-align: middle;\n",
       "    }\n",
       "\n",
       "    .dataframe tbody tr th {\n",
       "        vertical-align: top;\n",
       "    }\n",
       "\n",
       "    .dataframe thead th {\n",
       "        text-align: right;\n",
       "    }\n",
       "</style>\n",
       "<table border=\"1\" class=\"dataframe\">\n",
       "  <thead>\n",
       "    <tr style=\"text-align: right;\">\n",
       "      <th></th>\n",
       "      <th>name</th>\n",
       "      <th>gender</th>\n",
       "      <th>age</th>\n",
       "      <th>class</th>\n",
       "      <th>embarked</th>\n",
       "      <th>country</th>\n",
       "      <th>ticketno</th>\n",
       "      <th>fare</th>\n",
       "      <th>sibsp</th>\n",
       "      <th>parch</th>\n",
       "      <th>survived</th>\n",
       "    </tr>\n",
       "  </thead>\n",
       "  <tbody>\n",
       "    <tr>\n",
       "      <th>0</th>\n",
       "      <td>Abbing, Mr. Anthony</td>\n",
       "      <td>male</td>\n",
       "      <td>42.0</td>\n",
       "      <td>3rd</td>\n",
       "      <td>S</td>\n",
       "      <td>United States</td>\n",
       "      <td>5547.0</td>\n",
       "      <td>7.11</td>\n",
       "      <td>0.0</td>\n",
       "      <td>0.0</td>\n",
       "      <td>no</td>\n",
       "    </tr>\n",
       "    <tr>\n",
       "      <th>1</th>\n",
       "      <td>Abbott, Mr. Eugene Joseph</td>\n",
       "      <td>male</td>\n",
       "      <td>13.0</td>\n",
       "      <td>3rd</td>\n",
       "      <td>S</td>\n",
       "      <td>United States</td>\n",
       "      <td>2673.0</td>\n",
       "      <td>20.05</td>\n",
       "      <td>0.0</td>\n",
       "      <td>2.0</td>\n",
       "      <td>no</td>\n",
       "    </tr>\n",
       "    <tr>\n",
       "      <th>2</th>\n",
       "      <td>Abbott, Mr. Rossmore Edward</td>\n",
       "      <td>male</td>\n",
       "      <td>16.0</td>\n",
       "      <td>3rd</td>\n",
       "      <td>S</td>\n",
       "      <td>United States</td>\n",
       "      <td>2673.0</td>\n",
       "      <td>20.05</td>\n",
       "      <td>1.0</td>\n",
       "      <td>1.0</td>\n",
       "      <td>no</td>\n",
       "    </tr>\n",
       "    <tr>\n",
       "      <th>3</th>\n",
       "      <td>Abbott, Mrs. Rhoda Mary 'Rosa'</td>\n",
       "      <td>female</td>\n",
       "      <td>39.0</td>\n",
       "      <td>3rd</td>\n",
       "      <td>S</td>\n",
       "      <td>England</td>\n",
       "      <td>2673.0</td>\n",
       "      <td>20.05</td>\n",
       "      <td>1.0</td>\n",
       "      <td>1.0</td>\n",
       "      <td>yes</td>\n",
       "    </tr>\n",
       "    <tr>\n",
       "      <th>4</th>\n",
       "      <td>Abelseth, Miss. Karen Marie</td>\n",
       "      <td>female</td>\n",
       "      <td>16.0</td>\n",
       "      <td>3rd</td>\n",
       "      <td>S</td>\n",
       "      <td>Norway</td>\n",
       "      <td>348125.0</td>\n",
       "      <td>7.13</td>\n",
       "      <td>0.0</td>\n",
       "      <td>0.0</td>\n",
       "      <td>yes</td>\n",
       "    </tr>\n",
       "  </tbody>\n",
       "</table>\n",
       "</div>"
      ],
      "text/plain": [
       "                             name  gender   age class embarked        country  \\\n",
       "0             Abbing, Mr. Anthony    male  42.0   3rd        S  United States   \n",
       "1       Abbott, Mr. Eugene Joseph    male  13.0   3rd        S  United States   \n",
       "2     Abbott, Mr. Rossmore Edward    male  16.0   3rd        S  United States   \n",
       "3  Abbott, Mrs. Rhoda Mary 'Rosa'  female  39.0   3rd        S        England   \n",
       "4     Abelseth, Miss. Karen Marie  female  16.0   3rd        S         Norway   \n",
       "\n",
       "   ticketno   fare  sibsp  parch survived  \n",
       "0    5547.0   7.11    0.0    0.0       no  \n",
       "1    2673.0  20.05    0.0    2.0       no  \n",
       "2    2673.0  20.05    1.0    1.0       no  \n",
       "3    2673.0  20.05    1.0    1.0      yes  \n",
       "4  348125.0   7.13    0.0    0.0      yes  "
      ]
     },
     "execution_count": 7,
     "metadata": {},
     "output_type": "execute_result"
    }
   ],
   "source": [
    "df.head()"
   ]
  },
  {
   "cell_type": "code",
   "execution_count": 12,
   "id": "ebfdf2e1-df05-4af2-9828-2b56efaf1cdd",
   "metadata": {},
   "outputs": [
    {
     "data": {
      "text/html": [
       "<div>\n",
       "<style scoped>\n",
       "    .dataframe tbody tr th:only-of-type {\n",
       "        vertical-align: middle;\n",
       "    }\n",
       "\n",
       "    .dataframe tbody tr th {\n",
       "        vertical-align: top;\n",
       "    }\n",
       "\n",
       "    .dataframe thead th {\n",
       "        text-align: right;\n",
       "    }\n",
       "</style>\n",
       "<table border=\"1\" class=\"dataframe\">\n",
       "  <thead>\n",
       "    <tr style=\"text-align: right;\">\n",
       "      <th></th>\n",
       "      <th>name</th>\n",
       "      <th>gender</th>\n",
       "      <th>age</th>\n",
       "      <th>class</th>\n",
       "      <th>embarked</th>\n",
       "      <th>country</th>\n",
       "      <th>ticketno</th>\n",
       "      <th>fare</th>\n",
       "      <th>sibsp</th>\n",
       "      <th>parch</th>\n",
       "      <th>survived</th>\n",
       "    </tr>\n",
       "  </thead>\n",
       "  <tbody>\n",
       "    <tr>\n",
       "      <th>2202</th>\n",
       "      <td>Wynn, Mr. Walter</td>\n",
       "      <td>male</td>\n",
       "      <td>41.0</td>\n",
       "      <td>deck crew</td>\n",
       "      <td>B</td>\n",
       "      <td>England</td>\n",
       "      <td>NaN</td>\n",
       "      <td>NaN</td>\n",
       "      <td>NaN</td>\n",
       "      <td>NaN</td>\n",
       "      <td>yes</td>\n",
       "    </tr>\n",
       "    <tr>\n",
       "      <th>2203</th>\n",
       "      <td>Yearsley, Mr. Harry</td>\n",
       "      <td>male</td>\n",
       "      <td>40.0</td>\n",
       "      <td>victualling crew</td>\n",
       "      <td>S</td>\n",
       "      <td>England</td>\n",
       "      <td>NaN</td>\n",
       "      <td>NaN</td>\n",
       "      <td>NaN</td>\n",
       "      <td>NaN</td>\n",
       "      <td>yes</td>\n",
       "    </tr>\n",
       "    <tr>\n",
       "      <th>2204</th>\n",
       "      <td>Young, Mr. Francis James</td>\n",
       "      <td>male</td>\n",
       "      <td>32.0</td>\n",
       "      <td>engineering crew</td>\n",
       "      <td>S</td>\n",
       "      <td>England</td>\n",
       "      <td>NaN</td>\n",
       "      <td>NaN</td>\n",
       "      <td>NaN</td>\n",
       "      <td>NaN</td>\n",
       "      <td>no</td>\n",
       "    </tr>\n",
       "    <tr>\n",
       "      <th>2205</th>\n",
       "      <td>Zanetti, Sig. Minio</td>\n",
       "      <td>male</td>\n",
       "      <td>20.0</td>\n",
       "      <td>restaurant staff</td>\n",
       "      <td>S</td>\n",
       "      <td>England</td>\n",
       "      <td>NaN</td>\n",
       "      <td>NaN</td>\n",
       "      <td>NaN</td>\n",
       "      <td>NaN</td>\n",
       "      <td>no</td>\n",
       "    </tr>\n",
       "    <tr>\n",
       "      <th>2206</th>\n",
       "      <td>Zarracchi, Sig. L.</td>\n",
       "      <td>male</td>\n",
       "      <td>26.0</td>\n",
       "      <td>restaurant staff</td>\n",
       "      <td>S</td>\n",
       "      <td>England</td>\n",
       "      <td>NaN</td>\n",
       "      <td>NaN</td>\n",
       "      <td>NaN</td>\n",
       "      <td>NaN</td>\n",
       "      <td>no</td>\n",
       "    </tr>\n",
       "  </tbody>\n",
       "</table>\n",
       "</div>"
      ],
      "text/plain": [
       "                          name gender   age             class embarked  \\\n",
       "2202          Wynn, Mr. Walter   male  41.0         deck crew        B   \n",
       "2203       Yearsley, Mr. Harry   male  40.0  victualling crew        S   \n",
       "2204  Young, Mr. Francis James   male  32.0  engineering crew        S   \n",
       "2205       Zanetti, Sig. Minio   male  20.0  restaurant staff        S   \n",
       "2206        Zarracchi, Sig. L.   male  26.0  restaurant staff        S   \n",
       "\n",
       "      country  ticketno  fare  sibsp  parch survived  \n",
       "2202  England       NaN   NaN    NaN    NaN      yes  \n",
       "2203  England       NaN   NaN    NaN    NaN      yes  \n",
       "2204  England       NaN   NaN    NaN    NaN       no  \n",
       "2205  England       NaN   NaN    NaN    NaN       no  \n",
       "2206  England       NaN   NaN    NaN    NaN       no  "
      ]
     },
     "execution_count": 12,
     "metadata": {},
     "output_type": "execute_result"
    }
   ],
   "source": [
    "df.tail()"
   ]
  },
  {
   "cell_type": "code",
   "execution_count": 14,
   "id": "adc9ad94-14de-46ba-9d33-068b3727ef5a",
   "metadata": {},
   "outputs": [
    {
     "data": {
      "text/plain": [
       "33.40476049573974"
      ]
     },
     "execution_count": 14,
     "metadata": {},
     "output_type": "execute_result"
    }
   ],
   "source": [
    "df['fare'].mean()"
   ]
  },
  {
   "cell_type": "code",
   "execution_count": 16,
   "id": "f43bed6b-21c2-4a54-98e6-ba420fdae7c8",
   "metadata": {},
   "outputs": [
    {
     "data": {
      "text/plain": [
       "0        7.1100\n",
       "1       20.0500\n",
       "2       20.0500\n",
       "3       20.0500\n",
       "4        7.1300\n",
       "         ...   \n",
       "1314    13.0000\n",
       "1315     7.0406\n",
       "1316     7.0406\n",
       "1317     7.0406\n",
       "1318     7.1706\n",
       "Name: fare, Length: 1291, dtype: float64"
      ]
     },
     "execution_count": 16,
     "metadata": {},
     "output_type": "execute_result"
    }
   ],
   "source": [
    "df['fare'].dropna()"
   ]
  },
  {
   "cell_type": "code",
   "execution_count": 18,
   "id": "13f22018-c2ec-4426-b235-720d239270bb",
   "metadata": {},
   "outputs": [
    {
     "data": {
      "text/plain": [
       "0     7.11\n",
       "1    20.05\n",
       "2    20.05\n",
       "3    20.05\n",
       "4     7.13\n",
       "Name: fare, dtype: float64"
      ]
     },
     "execution_count": 18,
     "metadata": {},
     "output_type": "execute_result"
    }
   ],
   "source": [
    "df['fare'].head()"
   ]
  },
  {
   "cell_type": "code",
   "execution_count": 20,
   "id": "fad577f9-7a93-45fc-9642-f3524091526c",
   "metadata": {},
   "outputs": [
    {
     "data": {
      "text/html": [
       "<div>\n",
       "<style scoped>\n",
       "    .dataframe tbody tr th:only-of-type {\n",
       "        vertical-align: middle;\n",
       "    }\n",
       "\n",
       "    .dataframe tbody tr th {\n",
       "        vertical-align: top;\n",
       "    }\n",
       "\n",
       "    .dataframe thead th {\n",
       "        text-align: right;\n",
       "    }\n",
       "</style>\n",
       "<table border=\"1\" class=\"dataframe\">\n",
       "  <thead>\n",
       "    <tr style=\"text-align: right;\">\n",
       "      <th></th>\n",
       "      <th>name</th>\n",
       "      <th>gender</th>\n",
       "      <th>age</th>\n",
       "      <th>class</th>\n",
       "      <th>embarked</th>\n",
       "      <th>country</th>\n",
       "      <th>ticketno</th>\n",
       "      <th>fare</th>\n",
       "      <th>sibsp</th>\n",
       "      <th>parch</th>\n",
       "      <th>survived</th>\n",
       "    </tr>\n",
       "  </thead>\n",
       "  <tbody>\n",
       "    <tr>\n",
       "      <th>2202</th>\n",
       "      <td>Wynn, Mr. Walter</td>\n",
       "      <td>male</td>\n",
       "      <td>41.0</td>\n",
       "      <td>deck crew</td>\n",
       "      <td>B</td>\n",
       "      <td>England</td>\n",
       "      <td>NaN</td>\n",
       "      <td>NaN</td>\n",
       "      <td>NaN</td>\n",
       "      <td>NaN</td>\n",
       "      <td>yes</td>\n",
       "    </tr>\n",
       "    <tr>\n",
       "      <th>2203</th>\n",
       "      <td>Yearsley, Mr. Harry</td>\n",
       "      <td>male</td>\n",
       "      <td>40.0</td>\n",
       "      <td>victualling crew</td>\n",
       "      <td>S</td>\n",
       "      <td>England</td>\n",
       "      <td>NaN</td>\n",
       "      <td>NaN</td>\n",
       "      <td>NaN</td>\n",
       "      <td>NaN</td>\n",
       "      <td>yes</td>\n",
       "    </tr>\n",
       "    <tr>\n",
       "      <th>2204</th>\n",
       "      <td>Young, Mr. Francis James</td>\n",
       "      <td>male</td>\n",
       "      <td>32.0</td>\n",
       "      <td>engineering crew</td>\n",
       "      <td>S</td>\n",
       "      <td>England</td>\n",
       "      <td>NaN</td>\n",
       "      <td>NaN</td>\n",
       "      <td>NaN</td>\n",
       "      <td>NaN</td>\n",
       "      <td>no</td>\n",
       "    </tr>\n",
       "    <tr>\n",
       "      <th>2205</th>\n",
       "      <td>Zanetti, Sig. Minio</td>\n",
       "      <td>male</td>\n",
       "      <td>20.0</td>\n",
       "      <td>restaurant staff</td>\n",
       "      <td>S</td>\n",
       "      <td>England</td>\n",
       "      <td>NaN</td>\n",
       "      <td>NaN</td>\n",
       "      <td>NaN</td>\n",
       "      <td>NaN</td>\n",
       "      <td>no</td>\n",
       "    </tr>\n",
       "    <tr>\n",
       "      <th>2206</th>\n",
       "      <td>Zarracchi, Sig. L.</td>\n",
       "      <td>male</td>\n",
       "      <td>26.0</td>\n",
       "      <td>restaurant staff</td>\n",
       "      <td>S</td>\n",
       "      <td>England</td>\n",
       "      <td>NaN</td>\n",
       "      <td>NaN</td>\n",
       "      <td>NaN</td>\n",
       "      <td>NaN</td>\n",
       "      <td>no</td>\n",
       "    </tr>\n",
       "  </tbody>\n",
       "</table>\n",
       "</div>"
      ],
      "text/plain": [
       "                          name gender   age             class embarked  \\\n",
       "2202          Wynn, Mr. Walter   male  41.0         deck crew        B   \n",
       "2203       Yearsley, Mr. Harry   male  40.0  victualling crew        S   \n",
       "2204  Young, Mr. Francis James   male  32.0  engineering crew        S   \n",
       "2205       Zanetti, Sig. Minio   male  20.0  restaurant staff        S   \n",
       "2206        Zarracchi, Sig. L.   male  26.0  restaurant staff        S   \n",
       "\n",
       "      country  ticketno  fare  sibsp  parch survived  \n",
       "2202  England       NaN   NaN    NaN    NaN      yes  \n",
       "2203  England       NaN   NaN    NaN    NaN      yes  \n",
       "2204  England       NaN   NaN    NaN    NaN       no  \n",
       "2205  England       NaN   NaN    NaN    NaN       no  \n",
       "2206  England       NaN   NaN    NaN    NaN       no  "
      ]
     },
     "execution_count": 20,
     "metadata": {},
     "output_type": "execute_result"
    }
   ],
   "source": [
    "df.tail()"
   ]
  },
  {
   "cell_type": "code",
   "execution_count": 25,
   "id": "1116fff2-c059-49ba-8a3b-224c498eec47",
   "metadata": {},
   "outputs": [
    {
     "data": {
      "text/plain": [
       "14.0902"
      ]
     },
     "execution_count": 25,
     "metadata": {},
     "output_type": "execute_result"
    }
   ],
   "source": [
    "df['fare'].median()"
   ]
  },
  {
   "cell_type": "code",
   "execution_count": 197,
   "id": "b21fe2a2-82ef-4490-84da-2f84fd5d8cdb",
   "metadata": {},
   "outputs": [
    {
     "data": {
      "text/plain": [
       "array([nan, nan, nan, nan, nan, nan, nan, nan, nan])"
      ]
     },
     "execution_count": 197,
     "metadata": {},
     "output_type": "execute_result"
    }
   ],
   "source": [
    "percentiles = np.percentile(df['age'], [0.1, 0.2, 0.3, 0.4, 0.5, 0.6, 0.7, 0.8, 0.9])\n",
    "percentiles"
   ]
  },
  {
   "cell_type": "code",
   "execution_count": 53,
   "id": "514a77e4-99be-47c1-96bc-acd9d2ad0458",
   "metadata": {},
   "outputs": [
    {
     "data": {
      "image/png": "[encoded data removed]",
      "text/plain": [
       "<Figure size 640x480 with 1 Axes>"
      ]
     },
     "metadata": {},
     "output_type": "display_data"
    }
   ],
   "source": [
    "plt.hist(df['age'],bins=25)\n",
    "plt.show()"
   ]
  },
  {
   "cell_type": "code",
   "execution_count": 59,
   "id": "4c4cae40-7f7c-4f7d-8f6e-95b75a52623c",
   "metadata": {},
   "outputs": [
    {
     "data": {
      "text/plain": [
       "30.444444444444397"
      ]
     },
     "execution_count": 59,
     "metadata": {},
     "output_type": "execute_result"
    }
   ],
   "source": [
    "mean=df['age'].mean()\n",
    "mean"
   ]
  },
  {
   "cell_type": "code",
   "execution_count": 61,
   "id": "43577a21-c465-4b99-85ec-4ec2dee5603f",
   "metadata": {},
   "outputs": [
    {
     "data": {
      "text/plain": [
       "29.0"
      ]
     },
     "execution_count": 61,
     "metadata": {},
     "output_type": "execute_result"
    }
   ],
   "source": [
    "median=df['age'].median()\n",
    "median"
   ]
  },
  {
   "cell_type": "code",
   "execution_count": 137,
   "id": "88b69595-8c90-4e7c-9aaf-8223fd34e74d",
   "metadata": {},
   "outputs": [
    {
     "data": {
      "text/plain": [
       "22.0"
      ]
     },
     "execution_count": 137,
     "metadata": {},
     "output_type": "execute_result"
    }
   ],
   "source": [
    "mode=df['age'].mode()[0]\n",
    "mode"
   ]
  },
  {
   "cell_type": "code",
   "execution_count": 87,
   "id": "501cf5bb-d635-4f3b-bb7b-39fb47a8fbd6",
   "metadata": {},
   "outputs": [
    {
     "data": {
      "image/png": "[encoded data removed]",
      "text/plain": [
       "<Figure size 640x480 with 1 Axes>"
      ]
     },
     "metadata": {},
     "output_type": "display_data"
    }
   ],
   "source": [
    "plt.hist(mean, color='red', label=f'Mean: {mean:.2f}')\n",
    "plt.show()"
   ]
  },
  {
   "cell_type": "code",
   "execution_count": 91,
   "id": "8c1f80de-7102-4e47-ad92-530202a848a9",
   "metadata": {},
   "outputs": [
    {
     "data": {
      "text/plain": [
       "(array([0., 0., 0., 0., 0., 1., 0., 0., 0., 0.]),\n",
       " array([28.5, 28.6, 28.7, 28.8, 28.9, 29. , 29.1, 29.2, 29.3, 29.4, 29.5]),\n",
       " <BarContainer object of 10 artists>)"
      ]
     },
     "execution_count": 91,
     "metadata": {},
     "output_type": "execute_result"
    },
    {
     "data": {
      "image/png": "[encoded data removed]",
      "text/plain": [
       "<Figure size 640x480 with 1 Axes>"
      ]
     },
     "metadata": {},
     "output_type": "display_data"
    }
   ],
   "source": [
    "plt.hist(median,color='Blue',label=f\"median\")"
   ]
  },
  {
   "cell_type": "code",
   "execution_count": 113,
   "id": "c203e1cc-821a-46e7-b2c2-020a742dd54a",
   "metadata": {},
   "outputs": [
    {
     "data": {
      "text/plain": [
       "(array([0., 0., 0., 0., 0., 1., 0., 0., 0., 0.]),\n",
       " array([21.5, 21.6, 21.7, 21.8, 21.9, 22. , 22.1, 22.2, 22.3, 22.4, 22.5]),\n",
       " <BarContainer object of 10 artists>)"
      ]
     },
     "execution_count": 113,
     "metadata": {},
     "output_type": "execute_result"
    },
    {
     "data": {
      "image/png": "[encoded data removed]",
      "text/plain": [
       "<Figure size 640x480 with 1 Axes>"
      ]
     },
     "metadata": {},
     "output_type": "display_data"
    }
   ],
   "source": [
    "plt.hist(mode,color='Pink',label=f\"mode\")"
   ]
  },
  {
   "cell_type": "code",
   "execution_count": 141,
   "id": "2bd8e813-7e6d-46a2-a901-34b4ada4f474",
   "metadata": {},
   "outputs": [
    {
     "data": {
      "image/png": "[encoded data removed]",
      "text/plain": [
       "<Figure size 640x480 with 1 Axes>"
      ]
     },
     "metadata": {},
     "output_type": "display_data"
    }
   ],
   "source": [
    "\n",
    "# Plot the histogram with 25 bins\n",
    "plt.hist(df['age'], bins=25, edgecolor='black', alpha=0.7)\n",
    "\n",
    "# Plot the mean and median lines\n",
    "plt.axvline(mean, color='red', linestyle='dashed', linewidth=4, label=f'Mean: {mean:.2f}')\n",
    "plt.axvline(median, color='green', linestyle='dotted', linewidth=4, label=f'Median: {median:.2f}')\n",
    "plt.axvline(mode,color='Pink',linestyle='dashed',linewidth=4,label=f'Mode:{std:.2f}')\n",
    "plt.axvline(std,color='blue',linestyle='dashed',linewidth=4,label=f'Std:{std:.2f}')\n",
    "\n",
    "plt.xlabel('Age')\n",
    "plt.ylabel('Frequency')\n",
    "plt.title('Histogram of Age with Mean and Median')\n",
    "\n",
    "plt.legend()\n",
    "\n",
    "plt.show()\n",
    "#To show all the mean ,median and mode together."
   ]
  },
  {
   "cell_type": "code",
   "execution_count": 129,
   "id": "c8b363dd-e1e7-44de-b44a-330c5d4dc22b",
   "metadata": {},
   "outputs": [],
   "source": [
    "std=df['age'].std()"
   ]
  },
  {
   "cell_type": "code",
   "execution_count": 131,
   "id": "5c3d5e2e-d9f3-4434-a97e-b20af513ea65",
   "metadata": {},
   "outputs": [
    {
     "data": {
      "text/plain": [
       "12.151764267938846"
      ]
     },
     "execution_count": 131,
     "metadata": {},
     "output_type": "execute_result"
    }
   ],
   "source": [
    "std"
   ]
  },
  {
   "cell_type": "code",
   "execution_count": 151,
   "id": "9af47a3c-04a7-45e6-87c6-266236a48fbf",
   "metadata": {},
   "outputs": [
    {
     "data": {
      "text/plain": [
       "22.0"
      ]
     },
     "execution_count": 151,
     "metadata": {},
     "output_type": "execute_result"
    }
   ],
   "source": [
    "Q1=df['age'].quantile(0.25)\n",
    "Q1"
   ]
  },
  {
   "cell_type": "code",
   "execution_count": 153,
   "id": "e3709eac-d321-4b1f-8248-76f2a1dbe373",
   "metadata": {},
   "outputs": [
    {
     "data": {
      "text/plain": [
       "38.0"
      ]
     },
     "execution_count": 153,
     "metadata": {},
     "output_type": "execute_result"
    }
   ],
   "source": [
    "Q3=df['age'].quantile(0.75)\n",
    "Q3"
   ]
  },
  {
   "cell_type": "code",
   "execution_count": 155,
   "id": "2e3df595-4ea7-4072-b968-8023baa3675a",
   "metadata": {},
   "outputs": [
    {
     "data": {
      "text/plain": [
       "16.0"
      ]
     },
     "execution_count": 155,
     "metadata": {},
     "output_type": "execute_result"
    }
   ],
   "source": [
    "QR3=Q3-Q1\n",
    "QR3"
   ]
  },
  {
   "cell_type": "code",
   "execution_count": 167,
   "id": "e6946750-6d49-47bc-bdc0-df7f2daeefe4",
   "metadata": {},
   "outputs": [
    {
     "data": {
      "text/plain": [
       "-2.0"
      ]
     },
     "execution_count": 167,
     "metadata": {},
     "output_type": "execute_result"
    }
   ],
   "source": [
    "Lower_whisker=Q1-1.5*QR3\n",
    "Lower_whisker"
   ]
  },
  {
   "cell_type": "code",
   "execution_count": 169,
   "id": "b7a59b94-f84d-4a4e-b760-7673a5418e53",
   "metadata": {},
   "outputs": [
    {
     "data": {
      "text/plain": [
       "62.0"
      ]
     },
     "execution_count": 169,
     "metadata": {},
     "output_type": "execute_result"
    }
   ],
   "source": [
    "Upper_whisker=Q3+(1.5*QR3)\n",
    "Upper_whisker"
   ]
  },
  {
   "cell_type": "code",
   "execution_count": 211,
   "id": "30d49918-29d3-4666-8e97-e4c672b207f7",
   "metadata": {},
   "outputs": [],
   "source": [
    "df['age_bins']=pd.qcut(df['age'],q=10,labels=False)\n",
    "#To create the kind of bins of percentile of each 10 percent"
   ]
  },
  {
   "cell_type": "code",
   "execution_count": 213,
   "id": "1ff2c7d9-c316-446c-873c-509a399487b4",
   "metadata": {},
   "outputs": [
    {
     "data": {
      "text/plain": [
       "0       8.0\n",
       "1       0.0\n",
       "2       0.0\n",
       "3       7.0\n",
       "4       0.0\n",
       "       ... \n",
       "2202    8.0\n",
       "2203    7.0\n",
       "2204    5.0\n",
       "2205    1.0\n",
       "2206    3.0\n",
       "Name: age_bins, Length: 2207, dtype: float64"
      ]
     },
     "execution_count": 213,
     "metadata": {},
     "output_type": "execute_result"
    }
   ],
   "source": [
    "df['age_bins']"
   ]
  },
  {
   "cell_type": "code",
   "execution_count": 219,
   "id": "85f79c25-c701-4cbc-90af-608edf5f722e",
   "metadata": {},
   "outputs": [
    {
     "data": {
      "text/plain": [
       "age_bins\n",
       "0.0    259\n",
       "1.0    218\n",
       "2.0    270\n",
       "3.0    147\n",
       "4.0    237\n",
       "5.0    235\n",
       "6.0    222\n",
       "7.0    205\n",
       "8.0    195\n",
       "9.0    217\n",
       "Name: count, dtype: int64"
      ]
     },
     "execution_count": 219,
     "metadata": {},
     "output_type": "execute_result"
    }
   ],
   "source": [
    "df.age_bins.value_counts().sort_index()"
   ]
  },
  {
   "cell_type": "code",
   "execution_count": 223,
   "id": "f949a960-4af4-4efe-b9a7-3db2159c9465",
   "metadata": {},
   "outputs": [
    {
     "data": {
      "text/html": [
       "<div>\n",
       "<style scoped>\n",
       "    .dataframe tbody tr th:only-of-type {\n",
       "        vertical-align: middle;\n",
       "    }\n",
       "\n",
       "    .dataframe tbody tr th {\n",
       "        vertical-align: top;\n",
       "    }\n",
       "\n",
       "    .dataframe thead tr th {\n",
       "        text-align: left;\n",
       "    }\n",
       "\n",
       "    .dataframe thead tr:last-of-type th {\n",
       "        text-align: right;\n",
       "    }\n",
       "</style>\n",
       "<table border=\"1\" class=\"dataframe\">\n",
       "  <thead>\n",
       "    <tr>\n",
       "      <th></th>\n",
       "      <th colspan=\"2\" halign=\"left\">name</th>\n",
       "    </tr>\n",
       "    <tr>\n",
       "      <th>survived</th>\n",
       "      <th>no</th>\n",
       "      <th>yes</th>\n",
       "    </tr>\n",
       "    <tr>\n",
       "      <th>age_bins</th>\n",
       "      <th></th>\n",
       "      <th></th>\n",
       "    </tr>\n",
       "  </thead>\n",
       "  <tbody>\n",
       "    <tr>\n",
       "      <th>0.0</th>\n",
       "      <td>151</td>\n",
       "      <td>108</td>\n",
       "    </tr>\n",
       "    <tr>\n",
       "      <th>1.0</th>\n",
       "      <td>163</td>\n",
       "      <td>55</td>\n",
       "    </tr>\n",
       "    <tr>\n",
       "      <th>2.0</th>\n",
       "      <td>179</td>\n",
       "      <td>91</td>\n",
       "    </tr>\n",
       "    <tr>\n",
       "      <th>3.0</th>\n",
       "      <td>104</td>\n",
       "      <td>43</td>\n",
       "    </tr>\n",
       "    <tr>\n",
       "      <th>4.0</th>\n",
       "      <td>160</td>\n",
       "      <td>77</td>\n",
       "    </tr>\n",
       "    <tr>\n",
       "      <th>5.0</th>\n",
       "      <td>156</td>\n",
       "      <td>79</td>\n",
       "    </tr>\n",
       "    <tr>\n",
       "      <th>6.0</th>\n",
       "      <td>153</td>\n",
       "      <td>69</td>\n",
       "    </tr>\n",
       "    <tr>\n",
       "      <th>7.0</th>\n",
       "      <td>147</td>\n",
       "      <td>58</td>\n",
       "    </tr>\n",
       "    <tr>\n",
       "      <th>8.0</th>\n",
       "      <td>142</td>\n",
       "      <td>53</td>\n",
       "    </tr>\n",
       "    <tr>\n",
       "      <th>9.0</th>\n",
       "      <td>139</td>\n",
       "      <td>78</td>\n",
       "    </tr>\n",
       "  </tbody>\n",
       "</table>\n",
       "</div>"
      ],
      "text/plain": [
       "         name     \n",
       "survived   no  yes\n",
       "age_bins          \n",
       "0.0       151  108\n",
       "1.0       163   55\n",
       "2.0       179   91\n",
       "3.0       104   43\n",
       "4.0       160   77\n",
       "5.0       156   79\n",
       "6.0       153   69\n",
       "7.0       147   58\n",
       "8.0       142   53\n",
       "9.0       139   78"
      ]
     },
     "execution_count": 223,
     "metadata": {},
     "output_type": "execute_result"
    }
   ],
   "source": [
    "pd.pivot_table(data=df,index='age_bins',columns='survived',aggfunc={'name':'count',})"
   ]
  },
  {
   "cell_type": "code",
   "execution_count": 235,
   "id": "373cf213-cec8-49a2-b221-22ad52c7a5b3",
   "metadata": {},
   "outputs": [
    {
     "name": "stdout",
     "output_type": "stream",
     "text": [
      "survived    no  yes  Total\n",
      "age_bins                  \n",
      "0.0        151  108    259\n",
      "1.0        163   55    218\n",
      "2.0        179   91    270\n",
      "3.0        104   43    147\n",
      "4.0        160   77    237\n",
      "5.0        156   79    235\n",
      "6.0        153   69    222\n",
      "7.0        147   58    205\n",
      "8.0        142   53    195\n",
      "9.0        139   78    217\n",
      "Total     1494  711   2205\n"
     ]
    }
   ],
   "source": [
    "crosstab_result = pd.crosstab(df['age_bins'], df['survived'], margins=True,margins_name='Total')\n",
    "\n",
    "print(crosstab_result)"
   ]
  },
  {
   "cell_type": "code",
   "execution_count": 237,
   "id": "6b89b0fa-fe45-4cfb-aef4-b781e0a2e6c5",
   "metadata": {},
   "outputs": [
    {
     "data": {
      "text/html": [
       "<div>\n",
       "<style scoped>\n",
       "    .dataframe tbody tr th:only-of-type {\n",
       "        vertical-align: middle;\n",
       "    }\n",
       "\n",
       "    .dataframe tbody tr th {\n",
       "        vertical-align: top;\n",
       "    }\n",
       "\n",
       "    .dataframe thead th {\n",
       "        text-align: right;\n",
       "    }\n",
       "</style>\n",
       "<table border=\"1\" class=\"dataframe\">\n",
       "  <thead>\n",
       "    <tr style=\"text-align: right;\">\n",
       "      <th></th>\n",
       "      <th>name</th>\n",
       "      <th>gender</th>\n",
       "      <th>age</th>\n",
       "      <th>class</th>\n",
       "      <th>embarked</th>\n",
       "      <th>country</th>\n",
       "      <th>ticketno</th>\n",
       "      <th>fare</th>\n",
       "      <th>sibsp</th>\n",
       "      <th>parch</th>\n",
       "      <th>survived</th>\n",
       "      <th>age_bins</th>\n",
       "    </tr>\n",
       "  </thead>\n",
       "  <tbody>\n",
       "    <tr>\n",
       "      <th>0</th>\n",
       "      <td>Abbing, Mr. Anthony</td>\n",
       "      <td>male</td>\n",
       "      <td>42.0</td>\n",
       "      <td>3rd</td>\n",
       "      <td>S</td>\n",
       "      <td>United States</td>\n",
       "      <td>5547.0</td>\n",
       "      <td>7.11</td>\n",
       "      <td>0.0</td>\n",
       "      <td>0.0</td>\n",
       "      <td>no</td>\n",
       "      <td>8.0</td>\n",
       "    </tr>\n",
       "    <tr>\n",
       "      <th>1</th>\n",
       "      <td>Abbott, Mr. Eugene Joseph</td>\n",
       "      <td>male</td>\n",
       "      <td>13.0</td>\n",
       "      <td>3rd</td>\n",
       "      <td>S</td>\n",
       "      <td>United States</td>\n",
       "      <td>2673.0</td>\n",
       "      <td>20.05</td>\n",
       "      <td>0.0</td>\n",
       "      <td>2.0</td>\n",
       "      <td>no</td>\n",
       "      <td>0.0</td>\n",
       "    </tr>\n",
       "    <tr>\n",
       "      <th>2</th>\n",
       "      <td>Abbott, Mr. Rossmore Edward</td>\n",
       "      <td>male</td>\n",
       "      <td>16.0</td>\n",
       "      <td>3rd</td>\n",
       "      <td>S</td>\n",
       "      <td>United States</td>\n",
       "      <td>2673.0</td>\n",
       "      <td>20.05</td>\n",
       "      <td>1.0</td>\n",
       "      <td>1.0</td>\n",
       "      <td>no</td>\n",
       "      <td>0.0</td>\n",
       "    </tr>\n",
       "    <tr>\n",
       "      <th>3</th>\n",
       "      <td>Abbott, Mrs. Rhoda Mary 'Rosa'</td>\n",
       "      <td>female</td>\n",
       "      <td>39.0</td>\n",
       "      <td>3rd</td>\n",
       "      <td>S</td>\n",
       "      <td>England</td>\n",
       "      <td>2673.0</td>\n",
       "      <td>20.05</td>\n",
       "      <td>1.0</td>\n",
       "      <td>1.0</td>\n",
       "      <td>yes</td>\n",
       "      <td>7.0</td>\n",
       "    </tr>\n",
       "    <tr>\n",
       "      <th>4</th>\n",
       "      <td>Abelseth, Miss. Karen Marie</td>\n",
       "      <td>female</td>\n",
       "      <td>16.0</td>\n",
       "      <td>3rd</td>\n",
       "      <td>S</td>\n",
       "      <td>Norway</td>\n",
       "      <td>348125.0</td>\n",
       "      <td>7.13</td>\n",
       "      <td>0.0</td>\n",
       "      <td>0.0</td>\n",
       "      <td>yes</td>\n",
       "      <td>0.0</td>\n",
       "    </tr>\n",
       "  </tbody>\n",
       "</table>\n",
       "</div>"
      ],
      "text/plain": [
       "                             name  gender   age class embarked        country  \\\n",
       "0             Abbing, Mr. Anthony    male  42.0   3rd        S  United States   \n",
       "1       Abbott, Mr. Eugene Joseph    male  13.0   3rd        S  United States   \n",
       "2     Abbott, Mr. Rossmore Edward    male  16.0   3rd        S  United States   \n",
       "3  Abbott, Mrs. Rhoda Mary 'Rosa'  female  39.0   3rd        S        England   \n",
       "4     Abelseth, Miss. Karen Marie  female  16.0   3rd        S         Norway   \n",
       "\n",
       "   ticketno   fare  sibsp  parch survived  age_bins  \n",
       "0    5547.0   7.11    0.0    0.0       no       8.0  \n",
       "1    2673.0  20.05    0.0    2.0       no       0.0  \n",
       "2    2673.0  20.05    1.0    1.0       no       0.0  \n",
       "3    2673.0  20.05    1.0    1.0      yes       7.0  \n",
       "4  348125.0   7.13    0.0    0.0      yes       0.0  "
      ]
     },
     "execution_count": 237,
     "metadata": {},
     "output_type": "execute_result"
    }
   ],
   "source": [
    "df.head()"
   ]
  },
  {
   "cell_type": "code",
   "execution_count": 249,
   "id": "31933e7b-cd78-4b13-aaf7-0861bec7ca67",
   "metadata": {},
   "outputs": [
    {
     "data": {
      "text/plain": [
       "survived\n",
       "no     1496\n",
       "yes     711\n",
       "Name: count, dtype: int64"
      ]
     },
     "execution_count": 249,
     "metadata": {},
     "output_type": "execute_result"
    }
   ],
   "source": [
    "df['survived'].value_counts()"
   ]
  },
  {
   "cell_type": "code",
   "execution_count": 257,
   "id": "df62826f-3f92-40df-b556-8b114b95ec64",
   "metadata": {},
   "outputs": [
    {
     "ename": "TypeError",
     "evalue": "unsupported operand type(s) for /: 'str' and 'int'",
     "output_type": "error",
     "traceback": [
      "\u001b[0;31m---------------------------------------------------------------------------\u001b[0m",
      "\u001b[0;31mTypeError\u001b[0m                                 Traceback (most recent call last)",
      "Cell \u001b[0;32mIn[257], line 5\u001b[0m\n\u001b[1;32m      1\u001b[0m total_entries \u001b[38;5;241m=\u001b[39m df\u001b[38;5;241m.\u001b[39mshape[\u001b[38;5;241m0\u001b[39m]\n\u001b[1;32m      3\u001b[0m num_survivors \u001b[38;5;241m=\u001b[39m df[\u001b[38;5;124m'\u001b[39m\u001b[38;5;124msurvived\u001b[39m\u001b[38;5;124m'\u001b[39m]\u001b[38;5;241m.\u001b[39msum()\n\u001b[0;32m----> 5\u001b[0m proportion_survivors \u001b[38;5;241m=\u001b[39m num_survivors \u001b[38;5;241m/\u001b[39m total_entries\n",
      "\u001b[0;31mTypeError\u001b[0m: unsupported operand type(s) for /: 'str' and 'int'"
     ]
    }
   ],
   "source": [
    "total_entries = df.shape[0]\n",
    "\n",
    "num_survivors = df['survived'].sum()\n",
    "\n",
    "proportion_survivors = num_survivors / total_entries\n",
    "\n"
   ]
  },
  {
   "cell_type": "markdown",
   "id": "a4e5b308-9c4e-4fa3-a1e6-2c1698f817d1",
   "metadata": {},
   "source": [
    "Clustering"
   ]
  },
  {
   "cell_type": "markdown",
   "id": "073cfcdd-46fa-41ef-8637-6518acce7563",
   "metadata": {},
   "source": [
    "DBSCAN"
   ]
  },
  {
   "cell_type": "code",
   "execution_count": null,
   "id": "4512a031-5511-4f85-b0de-21445f82fd75",
   "metadata": {},
   "outputs": [],
   "source": []
  }
 ],
 "metadata": {
  "kernelspec": {
   "display_name": "Python 3 (ipykernel)",
   "language": "python",
   "name": "python3"
  },
  "language_info": {
   "codemirror_mode": {
    "name": "ipython",
    "version": 3
   },
   "file_extension": ".py",
   "mimetype": "text/x-python",
   "name": "python",
   "nbconvert_exporter": "python",
   "pygments_lexer": "ipython3",
   "version": "3.12.4"
  }
 },
 "nbformat": 4,
 "nbformat_minor": 5
}
